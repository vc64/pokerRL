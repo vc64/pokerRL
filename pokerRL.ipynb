{
 "cells": [
  {
   "cell_type": "code",
   "execution_count": 3,
   "id": "01c4287d",
   "metadata": {},
   "outputs": [],
   "source": [
    "from pettingzoo.classic import rps_v2\n",
    "\n",
    "env = rps_v2.env(render_mode=\"human\")\n",
    "env.reset(seed=42)\n",
    "\n",
    "for agent in env.agent_iter():\n",
    "    observation, reward, termination, truncation, info = env.last()\n",
    "\n",
    "    if termination or truncation:\n",
    "        action = None\n",
    "    else:\n",
    "        action = env.action_space(agent).sample() # this is where you would insert your policy\n",
    "\n",
    "    env.step(action)\n",
    "env.close()"
   ]
  },
  {
   "cell_type": "code",
   "execution_count": 1,
   "id": "38783cb2",
   "metadata": {},
   "outputs": [],
   "source": [
    "from pettingzoo.classic import texas_holdem_no_limit_v6\n",
    "import time\n",
    "\n",
    "env = texas_holdem_no_limit_v6.env(render_mode=\"human\")\n",
    "env.reset(seed=42)\n",
    "\n",
    "for agent in env.agent_iter():\n",
    "    observation, reward, termination, truncation, info = env.last()\n",
    "\n",
    "    if termination or truncation:\n",
    "        action = None\n",
    "    else:\n",
    "        # invalid action masking is optional and environment-dependent\n",
    "        if \"action_mask\" in info:\n",
    "            mask = info[\"action_mask\"]\n",
    "        elif isinstance(observation, dict) and \"action_mask\" in observation:\n",
    "            mask = observation[\"action_mask\"]\n",
    "        else:\n",
    "            mask = None\n",
    "        time.sleep(1)\n",
    "        action = env.action_space(agent).sample(mask) # this is where you would insert your policy\n",
    "\n",
    "    env.step(action)\n",
    "time.sleep(10)\n",
    "env.close()"
   ]
  },
  {
   "cell_type": "code",
   "execution_count": null,
   "id": "c604da82",
   "metadata": {},
   "outputs": [],
   "source": []
  }
 ],
 "metadata": {
  "kernelspec": {
   "display_name": "Python [conda env:torchenv]",
   "language": "python",
   "name": "conda-env-torchenv-py"
  },
  "language_info": {
   "codemirror_mode": {
    "name": "ipython",
    "version": 3
   },
   "file_extension": ".py",
   "mimetype": "text/x-python",
   "name": "python",
   "nbconvert_exporter": "python",
   "pygments_lexer": "ipython3",
   "version": "3.9.7"
  }
 },
 "nbformat": 4,
 "nbformat_minor": 5
}
